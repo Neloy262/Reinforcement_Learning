{
 "cells": [
  {
   "cell_type": "code",
   "execution_count": 54,
   "metadata": {},
   "outputs": [
    {
     "name": "stdout",
     "output_type": "stream",
     "text": [
      "Discrete(4)\n",
      "Box(-inf, inf, (8,), float32)\n"
     ]
    }
   ],
   "source": [
    "import torch as T\n",
    "import torch.nn as nn\n",
    "import torch.nn.functional as F\n",
    "import torch.optim as optim\n",
    "import numpy as np\n",
    "import gym\n",
    "import math\n",
    "env=gym.make('LunarLander-v2')\n",
    "print(env.action_space)\n",
    "print(env.observation_space)\n",
    "player=1\n",
    "opponent=-1"
   ]
  },
  {
   "cell_type": "markdown",
   "metadata": {},
   "source": [
    "# MINIMAX AGENT"
   ]
  },
  {
   "cell_type": "code",
   "execution_count": 55,
   "metadata": {},
   "outputs": [],
   "source": [
    "def isMovesLeft(board):\n",
    "    for i in range(5):\n",
    "        for j in range(5):\n",
    "            if board[i][j]==0:\n",
    "                return True\n",
    "    return False"
   ]
  },
  {
   "cell_type": "code",
   "execution_count": 56,
   "metadata": {},
   "outputs": [],
   "source": [
    "def evaluate(b):\n",
    "    for i in range(5):\n",
    "        if b[i][0]==b[i][1] and b[i][1]==b[i][2] and b[i][2]==b[i][3] and b[i][3]==b[i][4]:\n",
    "            if b[i][0]==player:\n",
    "                return 10\n",
    "            elif b[i][0]==opponent:\n",
    "                return -10\n",
    "    \n",
    "    for i in range(5):\n",
    "        if b[0][i]==b[1][i] and b[1][i]==b[2][i] and b[2][i]==b[3][i] and b[3][i]==b[4][i]:\n",
    "            if b[0][i]==player:\n",
    "                return 10\n",
    "            elif b[0][i]==opponent:\n",
    "                return -10\n",
    "    \n",
    "    if b[0][0] == b[1][1] and b[1][1] == b[2][2] and b[2][2]==b[3][3] and b[3][3]==b[4][4]:\n",
    "        if b[0][0]==player:\n",
    "            return 10\n",
    "        elif b[0][0]==opponent:\n",
    "            return -10\n",
    "    \n",
    "    if b[0][4]==b[1][3] and b[1][3]==b[2][2] and b[2][2]==b[3][1] and b[3][1]==b[4][0]:\n",
    "        if b[0][4]==player:\n",
    "            return 10\n",
    "        elif b[0][4]==opponent:\n",
    "            return -10\n",
    "    return 0"
   ]
  },
  {
   "cell_type": "code",
   "execution_count": 57,
   "metadata": {},
   "outputs": [],
   "source": [
    "def minimax(board,depth,isMax,alpha,beta):\n",
    "    score=evaluate(board)\n",
    "    if depth==6:\n",
    "        return score\n",
    "    if score==10:\n",
    "        return score\n",
    "    \n",
    "    if score==-10:\n",
    "        return score\n",
    "    \n",
    "    if isMovesLeft(board)==False:\n",
    "        return 0\n",
    "    \n",
    "    if isMax==True:\n",
    "        best=-1000\n",
    "        for i in range(5):\n",
    "            for j in range(5):\n",
    "                if board[i][j]==0:\n",
    "                    board[i][j]=player\n",
    "                    best=max(best,minimax(board,depth+1,False,alpha,beta))\n",
    "                    board[i][j]=0\n",
    "                    alpha=max(best,alpha)\n",
    "                    \n",
    "                    if beta<=alpha:\n",
    "                        return best\n",
    "        return best\n",
    "    else:\n",
    "        best=1000\n",
    "        for i in range(5):\n",
    "            for j in range(5):\n",
    "                if board[i][j]==0:\n",
    "                    board[i][j]=opponent\n",
    "                    best=min(best,minimax(board,depth+1,True,alpha,beta))\n",
    "                    board[i][j]=0\n",
    "                    \n",
    "                    beta=min(best,beta)\n",
    "                    \n",
    "                    if beta<=alpha:\n",
    "                        return best\n",
    "        return best"
   ]
  },
  {
   "cell_type": "code",
   "execution_count": 58,
   "metadata": {},
   "outputs": [],
   "source": [
    "def bestMove(board):\n",
    "    alpha=-1000\n",
    "    beta=1000\n",
    "    bestval=-1000\n",
    "    besti=-1\n",
    "    bestj=-1\n",
    "    \n",
    "    for i in range(5):\n",
    "        for j in range(5):\n",
    "            if board[i][j]==0:\n",
    "                \n",
    "                board[i][j]=player\n",
    "                moveval=minimax(board,0,False,alpha,beta)\n",
    "                board[i][j]=0\n",
    "                \n",
    "                if moveval>bestval:\n",
    "                    besti=i\n",
    "                    bestj=j\n",
    "                    bestval=moveval\n",
    "#     print(\"Best move:\",besti,bestj)\n",
    "    return besti,bestj"
   ]
  },
  {
   "cell_type": "markdown",
   "metadata": {},
   "source": [
    "# Policy Gradient"
   ]
  },
  {
   "cell_type": "code",
   "execution_count": 59,
   "metadata": {},
   "outputs": [],
   "source": [
    "def convert(num):\n",
    "    i=math.floor(num/5)\n",
    "    j=num%5\n",
    "    \n",
    "    return i,j"
   ]
  },
  {
   "cell_type": "code",
   "execution_count": 71,
   "metadata": {},
   "outputs": [],
   "source": [
    "def check(probs,board):\n",
    "    sortedProbs=probs.argsort()\n",
    "    for i in reversed(sortedProbs):\n",
    "        i_index,j_index=convert(i.item())\n",
    "        if board[i_index][j_index]!=0:\n",
    "            continue\n",
    "        else:\n",
    "            return i"
   ]
  },
  {
   "cell_type": "code",
   "execution_count": 72,
   "metadata": {},
   "outputs": [],
   "source": [
    "class PolicyNetwork(nn.Module):\n",
    "    def __init__(self,lr,input_dims,fc1_dims,fc2_dims,n_actions):\n",
    "        super(PolicyNetwork,self).__init__()\n",
    "        self.input_dims=input_dims\n",
    "        self.lr=lr\n",
    "        self.fc1_dims=fc1_dims\n",
    "        self.fc2_dims=fc2_dims\n",
    "        self.n_actions=n_actions\n",
    "        self.fc1=nn.Linear(input_dims,fc1_dims)\n",
    "        self.fc2=nn.Linear(fc1_dims,fc2_dims)\n",
    "        self.fc3=nn.Linear(fc2_dims,n_actions)\n",
    "        self.optimizer=optim.Adam(self.parameters(),lr=lr)\n",
    "        \n",
    "        self.device=T.device('cuda:0' if T.cuda.is_available() else 'cpu')\n",
    "        self.to(self.device)\n",
    "        \n",
    "    def forward(self,observation):\n",
    "        observation=T.Tensor(observation).to(self.device)\n",
    "        x=F.relu(self.fc1(observation))\n",
    "        x=F.relu(self.fc2(x))\n",
    "        x=self.fc3(x)\n",
    "        \n",
    "        return x"
   ]
  },
  {
   "cell_type": "code",
   "execution_count": 73,
   "metadata": {},
   "outputs": [],
   "source": [
    "class Agent():\n",
    "    def __init__(self,lr,input_dims,gamma=0.99,n_actions=4,l1_size=256,l2_size=256):\n",
    "        \n",
    "        self.gamma=gamma\n",
    "        self.reward_memory=[]\n",
    "        self.action_memory=[]\n",
    "        self.policy=PolicyNetwork(lr,input_dims,l1_size,l2_size,n_actions)\n",
    "        \n",
    "    def act(self,board):\n",
    "        probs=F.softmax(self.policy.forward(np.ndarray.flatten(board)))\n",
    "        action_probs=T.distributions.Categorical(probs)\n",
    "        action=action_probs.sample()\n",
    "        i,j=convert(action.item())\n",
    "        \n",
    "        if board[i][j]!=0:\n",
    "            action=check(probs,board)\n",
    "            \n",
    "        log_probs=action_probs.log_prob(action)\n",
    "        self.action_memory.append(log_probs)\n",
    "        i,j=convert(action.item())\n",
    "        return i,j\n",
    "    \n",
    "    def store_rewards(self,reward):\n",
    "        self.reward_memory.append(reward)\n",
    "        \n",
    "    def learn(self):\n",
    "        self.policy.optimizer.zero_grad()\n",
    "        G=[]\n",
    "        for t in range(len(self.reward_memory)):\n",
    "            G_sum=0\n",
    "            discount=1\n",
    "            \n",
    "            for k in range(t,len(self.reward_memory)):\n",
    "                G_sum+=self.reward_memory[k]*discount\n",
    "                discount*=self.gamma   \n",
    "            G.append(G_sum)\n",
    "            \n",
    "        mean=np.mean(G)\n",
    "        std=np.std(G) if np.std(G)>0 else 1\n",
    "        G=np.array(G)\n",
    "        G=(G-mean)/std\n",
    "        \n",
    "        G=T.tensor(G).to(self.policy.device)\n",
    "        \n",
    "        loss=0\n",
    "        \n",
    "        for g,log_probs in zip(G,self.action_memory):\n",
    "            loss+= -g*log_probs\n",
    "        \n",
    "        loss.backward()\n",
    "        \n",
    "        \n",
    "        self.policy.optimizer.step()\n",
    "        \n",
    "        \n",
    "        self.action_memory=[]\n",
    "        self.reward_memory=[]\n",
    "        \n",
    "        \n",
    "    "
   ]
  },
  {
   "cell_type": "code",
   "execution_count": 77,
   "metadata": {},
   "outputs": [],
   "source": [
    "def step(board,i,j):\n",
    "    board[i][j]=-1\n",
    "    reward1=evaluate(board)\n",
    "    if reward1==-10:\n",
    "        return board,1,True\n",
    "    besti,bestj=bestMove(board)\n",
    "    \n",
    "    board[besti][bestj]=1\n",
    "    reward2=evaluate(board)\n",
    "    if reward2==10:\n",
    "        return board,-1,True\n",
    "    \n",
    "    if isMovesLeft(board)==False:\n",
    "        return board,0.5,True\n",
    "\n",
    "    return board,0,False"
   ]
  },
  {
   "cell_type": "code",
   "execution_count": 80,
   "metadata": {},
   "outputs": [],
   "source": [
    "def convBoard(board):\n",
    "    for i in range(5):\n",
    "        for j in range(5):\n",
    "            if board[i][j]==1:\n",
    "                board[i][j]='X'\n",
    "            else:\n",
    "                board[i][j]='O'\n",
    "    return board"
   ]
  },
  {
   "cell_type": "code",
   "execution_count": 82,
   "metadata": {
    "scrolled": false
   },
   "outputs": [
    {
     "name": "stderr",
     "output_type": "stream",
     "text": [
      "/home/neloy/anaconda3/envs/myenv/lib/python3.6/site-packages/ipykernel_launcher.py:10: UserWarning: Implicit dimension choice for softmax has been deprecated. Change the call to include dim=X as an argument.\n",
      "  # Remove the CWD from sys.path while we load stuff.\n"
     ]
    },
    {
     "name": "stdout",
     "output_type": "stream",
     "text": [
      "episode 0 score -1.000\n",
      "episode 1 score -1.000\n",
      "episode 2 score -1.000\n",
      "episode 3 score 0.500\n",
      "episode 4 score 0.500\n",
      "episode 5 score -1.000\n",
      "episode 6 score 0.500\n",
      "episode 7 score 0.500\n",
      "episode 8 score 0.500\n",
      "episode 9 score -1.000\n",
      "episode 10 score -1.000\n",
      "episode 11 score -1.000\n",
      "episode 12 score -1.000\n",
      "episode 13 score -1.000\n",
      "episode 14 score -1.000\n",
      "episode 15 score 0.500\n",
      "episode 16 score -1.000\n",
      "episode 17 score -1.000\n",
      "episode 18 score 0.500\n",
      "episode 19 score 0.500\n",
      "episode 20 score -1.000\n",
      "episode 21 score 0.500\n",
      "episode 22 score 0.500\n",
      "episode 23 score 0.500\n",
      "episode 24 score 0.500\n",
      "episode 25 score -1.000\n",
      "episode 26 score 0.500\n",
      "episode 27 score -1.000\n",
      "episode 28 score -1.000\n",
      "episode 29 score -1.000\n",
      "episode 30 score -1.000\n",
      "episode 31 score 0.500\n",
      "episode 32 score -1.000\n",
      "episode 33 score -1.000\n",
      "episode 34 score 0.500\n",
      "episode 35 score 0.500\n",
      "episode 36 score 0.500\n",
      "episode 37 score 0.500\n",
      "episode 38 score 0.500\n",
      "episode 39 score -1.000\n",
      "episode 40 score -1.000\n",
      "episode 41 score 0.500\n",
      "episode 42 score 0.500\n",
      "episode 43 score -1.000\n",
      "episode 44 score 0.500\n",
      "episode 45 score -1.000\n",
      "episode 46 score 0.500\n",
      "episode 47 score -1.000\n",
      "episode 48 score -1.000\n",
      "episode 49 score -1.000\n",
      "episode 50 score 0.500\n",
      "episode 51 score 0.500\n",
      "episode 52 score -1.000\n",
      "episode 53 score 0.500\n",
      "episode 54 score -1.000\n",
      "episode 55 score 0.500\n",
      "episode 56 score 0.500\n",
      "episode 57 score 0.500\n",
      "episode 58 score -1.000\n",
      "episode 59 score -1.000\n",
      "episode 60 score 0.500\n",
      "episode 61 score 0.500\n",
      "episode 62 score 0.500\n",
      "episode 63 score -1.000\n",
      "episode 64 score 0.500\n",
      "episode 65 score 0.500\n",
      "episode 66 score -1.000\n",
      "episode 67 score -1.000\n",
      "episode 68 score 0.500\n",
      "episode 69 score -1.000\n",
      "episode 70 score -1.000\n",
      "episode 71 score -1.000\n",
      "episode 72 score 0.500\n",
      "episode 73 score -1.000\n",
      "episode 74 score -1.000\n",
      "episode 75 score -1.000\n",
      "episode 76 score -1.000\n",
      "episode 77 score 0.500\n",
      "episode 78 score 0.500\n",
      "episode 79 score 0.500\n",
      "episode 80 score -1.000\n",
      "episode 81 score -1.000\n",
      "episode 82 score 0.500\n",
      "episode 83 score -1.000\n",
      "episode 84 score 0.500\n",
      "episode 85 score -1.000\n",
      "episode 86 score 0.500\n",
      "episode 87 score 0.500\n",
      "episode 88 score 0.500\n",
      "episode 89 score -1.000\n",
      "episode 90 score -1.000\n",
      "episode 91 score 0.500\n",
      "episode 92 score 0.500\n",
      "episode 93 score -1.000\n",
      "episode 94 score 0.500\n",
      "episode 95 score 0.500\n",
      "episode 96 score 0.500\n",
      "episode 97 score 0.500\n",
      "episode 98 score 0.500\n",
      "episode 99 score 0.500\n",
      "episode 100 score -1.000\n",
      "episode 101 score -1.000\n",
      "episode 102 score -1.000\n",
      "episode 103 score -1.000\n",
      "episode 104 score 0.500\n",
      "episode 105 score -1.000\n",
      "episode 106 score -1.000\n",
      "episode 107 score -1.000\n",
      "episode 108 score 0.500\n",
      "episode 109 score -1.000\n",
      "episode 110 score -1.000\n",
      "episode 111 score -1.000\n",
      "episode 112 score -1.000\n",
      "episode 113 score 0.500\n",
      "episode 114 score -1.000\n",
      "episode 115 score -1.000\n",
      "episode 116 score 0.500\n",
      "episode 117 score 0.500\n",
      "episode 118 score 0.500\n",
      "episode 119 score -1.000\n",
      "episode 120 score 0.500\n",
      "episode 121 score -1.000\n",
      "episode 122 score -1.000\n",
      "episode 123 score -1.000\n",
      "episode 124 score 0.500\n",
      "episode 125 score 0.500\n",
      "episode 126 score -1.000\n",
      "episode 127 score -1.000\n",
      "episode 128 score 0.500\n",
      "episode 129 score -1.000\n",
      "episode 130 score 0.500\n",
      "episode 131 score 0.500\n",
      "episode 132 score -1.000\n",
      "episode 133 score 0.500\n",
      "episode 134 score 0.500\n",
      "episode 135 score 0.500\n",
      "episode 136 score 0.500\n",
      "episode 137 score -1.000\n",
      "episode 138 score 0.500\n",
      "episode 139 score 0.500\n",
      "episode 140 score -1.000\n",
      "episode 141 score 0.500\n",
      "episode 142 score 0.500\n",
      "episode 143 score -1.000\n",
      "episode 144 score 0.500\n",
      "episode 145 score 0.500\n",
      "episode 146 score 0.500\n",
      "episode 147 score 0.500\n",
      "episode 148 score -1.000\n",
      "episode 149 score 0.500\n",
      "episode 150 score -1.000\n",
      "episode 151 score -1.000\n",
      "episode 152 score 0.500\n",
      "episode 153 score -1.000\n",
      "episode 154 score -1.000\n",
      "episode 155 score -1.000\n",
      "episode 156 score -1.000\n",
      "episode 157 score -1.000\n",
      "episode 158 score -1.000\n",
      "episode 159 score -1.000\n",
      "episode 160 score -1.000\n",
      "episode 161 score -1.000\n",
      "episode 162 score 0.500\n",
      "episode 163 score -1.000\n",
      "episode 164 score -1.000\n",
      "episode 165 score 0.500\n",
      "episode 166 score 0.500\n",
      "episode 167 score -1.000\n",
      "episode 168 score -1.000\n",
      "episode 169 score -1.000\n",
      "episode 170 score 0.500\n",
      "episode 171 score -1.000\n",
      "episode 172 score -1.000\n",
      "episode 173 score -1.000\n",
      "episode 174 score -1.000\n",
      "episode 175 score 0.500\n",
      "episode 176 score -1.000\n",
      "episode 177 score -1.000\n",
      "episode 178 score -1.000\n",
      "episode 179 score -1.000\n",
      "episode 180 score -1.000\n",
      "episode 181 score -1.000\n",
      "episode 182 score -1.000\n",
      "episode 183 score 0.500\n",
      "episode 184 score 0.500\n",
      "episode 185 score 0.500\n",
      "episode 186 score -1.000\n",
      "episode 187 score 0.500\n",
      "episode 188 score -1.000\n",
      "episode 189 score -1.000\n",
      "episode 190 score -1.000\n",
      "episode 191 score -1.000\n",
      "episode 192 score -1.000\n",
      "episode 193 score -1.000\n",
      "episode 194 score 0.500\n",
      "episode 195 score 0.500\n",
      "episode 196 score -1.000\n",
      "episode 197 score -1.000\n",
      "episode 198 score -1.000\n",
      "episode 199 score 0.500\n",
      "episode 200 score 0.500\n",
      "episode 201 score -1.000\n",
      "episode 202 score -1.000\n",
      "episode 203 score 0.500\n",
      "episode 204 score -1.000\n",
      "episode 205 score 0.500\n",
      "episode 206 score -1.000\n",
      "episode 207 score -1.000\n",
      "episode 208 score -1.000\n",
      "episode 209 score -1.000\n",
      "episode 210 score 0.500\n",
      "episode 211 score -1.000\n",
      "episode 212 score -1.000\n",
      "episode 213 score 0.500\n",
      "episode 214 score 0.500\n",
      "episode 215 score -1.000\n",
      "episode 216 score -1.000\n",
      "episode 217 score -1.000\n",
      "episode 218 score -1.000\n",
      "episode 219 score 0.500\n",
      "episode 220 score -1.000\n",
      "episode 221 score 0.500\n",
      "episode 222 score -1.000\n",
      "episode 223 score -1.000\n",
      "episode 224 score -1.000\n",
      "episode 225 score 0.500\n",
      "episode 226 score -1.000\n",
      "episode 227 score 0.500\n",
      "episode 228 score -1.000\n",
      "episode 229 score 0.500\n",
      "episode 230 score 0.500\n",
      "episode 231 score -1.000\n",
      "episode 232 score -1.000\n",
      "episode 233 score 0.500\n",
      "episode 234 score -1.000\n",
      "episode 235 score 0.500\n",
      "episode 236 score -1.000\n",
      "episode 237 score 0.500\n",
      "episode 238 score 0.500\n",
      "episode 239 score -1.000\n",
      "episode 240 score 0.500\n",
      "episode 241 score -1.000\n",
      "episode 242 score -1.000\n",
      "episode 243 score 0.500\n",
      "episode 244 score 0.500\n",
      "episode 245 score 0.500\n",
      "episode 246 score -1.000\n",
      "episode 247 score -1.000\n",
      "episode 248 score 0.500\n",
      "episode 249 score -1.000\n",
      "episode 250 score -1.000\n"
     ]
    },
    {
     "ename": "KeyboardInterrupt",
     "evalue": "",
     "output_type": "error",
     "traceback": [
      "\u001b[0;31m---------------------------------------------------------------------------\u001b[0m",
      "\u001b[0;31mKeyboardInterrupt\u001b[0m                         Traceback (most recent call last)",
      "\u001b[0;32m<ipython-input-82-14d12bf87e93>\u001b[0m in \u001b[0;36m<module>\u001b[0;34m\u001b[0m\n\u001b[1;32m     11\u001b[0m     \u001b[0;32mwhile\u001b[0m \u001b[0;32mnot\u001b[0m \u001b[0mdone\u001b[0m\u001b[0;34m:\u001b[0m\u001b[0;34m\u001b[0m\u001b[0;34m\u001b[0m\u001b[0m\n\u001b[1;32m     12\u001b[0m         \u001b[0mi_index\u001b[0m\u001b[0;34m,\u001b[0m\u001b[0mj_index\u001b[0m\u001b[0;34m=\u001b[0m\u001b[0magent\u001b[0m\u001b[0;34m.\u001b[0m\u001b[0mact\u001b[0m\u001b[0;34m(\u001b[0m\u001b[0mboard\u001b[0m\u001b[0;34m)\u001b[0m\u001b[0;34m\u001b[0m\u001b[0;34m\u001b[0m\u001b[0m\n\u001b[0;32m---> 13\u001b[0;31m         \u001b[0mboard\u001b[0m\u001b[0;34m,\u001b[0m\u001b[0mreward\u001b[0m\u001b[0;34m,\u001b[0m\u001b[0mdone\u001b[0m\u001b[0;34m=\u001b[0m\u001b[0mstep\u001b[0m\u001b[0;34m(\u001b[0m\u001b[0mboard\u001b[0m\u001b[0;34m,\u001b[0m\u001b[0mi_index\u001b[0m\u001b[0;34m,\u001b[0m\u001b[0mj_index\u001b[0m\u001b[0;34m)\u001b[0m\u001b[0;34m\u001b[0m\u001b[0;34m\u001b[0m\u001b[0m\n\u001b[0m\u001b[1;32m     14\u001b[0m         \u001b[0magent\u001b[0m\u001b[0;34m.\u001b[0m\u001b[0mstore_rewards\u001b[0m\u001b[0;34m(\u001b[0m\u001b[0mreward\u001b[0m\u001b[0;34m)\u001b[0m\u001b[0;34m\u001b[0m\u001b[0;34m\u001b[0m\u001b[0m\n\u001b[1;32m     15\u001b[0m         \u001b[0mscore\u001b[0m\u001b[0;34m+=\u001b[0m\u001b[0mreward\u001b[0m\u001b[0;34m\u001b[0m\u001b[0;34m\u001b[0m\u001b[0m\n",
      "\u001b[0;32m<ipython-input-77-35721b7aafd7>\u001b[0m in \u001b[0;36mstep\u001b[0;34m(board, i, j)\u001b[0m\n\u001b[1;32m      4\u001b[0m     \u001b[0;32mif\u001b[0m \u001b[0mreward1\u001b[0m\u001b[0;34m==\u001b[0m\u001b[0;34m-\u001b[0m\u001b[0;36m10\u001b[0m\u001b[0;34m:\u001b[0m\u001b[0;34m\u001b[0m\u001b[0;34m\u001b[0m\u001b[0m\n\u001b[1;32m      5\u001b[0m         \u001b[0;32mreturn\u001b[0m \u001b[0mboard\u001b[0m\u001b[0;34m,\u001b[0m\u001b[0;36m1\u001b[0m\u001b[0;34m,\u001b[0m\u001b[0;32mTrue\u001b[0m\u001b[0;34m\u001b[0m\u001b[0;34m\u001b[0m\u001b[0m\n\u001b[0;32m----> 6\u001b[0;31m     \u001b[0mbesti\u001b[0m\u001b[0;34m,\u001b[0m\u001b[0mbestj\u001b[0m\u001b[0;34m=\u001b[0m\u001b[0mbestMove\u001b[0m\u001b[0;34m(\u001b[0m\u001b[0mboard\u001b[0m\u001b[0;34m)\u001b[0m\u001b[0;34m\u001b[0m\u001b[0;34m\u001b[0m\u001b[0m\n\u001b[0m\u001b[1;32m      7\u001b[0m \u001b[0;34m\u001b[0m\u001b[0m\n\u001b[1;32m      8\u001b[0m     \u001b[0mboard\u001b[0m\u001b[0;34m[\u001b[0m\u001b[0mbesti\u001b[0m\u001b[0;34m]\u001b[0m\u001b[0;34m[\u001b[0m\u001b[0mbestj\u001b[0m\u001b[0;34m]\u001b[0m\u001b[0;34m=\u001b[0m\u001b[0;36m1\u001b[0m\u001b[0;34m\u001b[0m\u001b[0;34m\u001b[0m\u001b[0m\n",
      "\u001b[0;32m<ipython-input-58-70a157457362>\u001b[0m in \u001b[0;36mbestMove\u001b[0;34m(board)\u001b[0m\n\u001b[1;32m     11\u001b[0m \u001b[0;34m\u001b[0m\u001b[0m\n\u001b[1;32m     12\u001b[0m                 \u001b[0mboard\u001b[0m\u001b[0;34m[\u001b[0m\u001b[0mi\u001b[0m\u001b[0;34m]\u001b[0m\u001b[0;34m[\u001b[0m\u001b[0mj\u001b[0m\u001b[0;34m]\u001b[0m\u001b[0;34m=\u001b[0m\u001b[0mplayer\u001b[0m\u001b[0;34m\u001b[0m\u001b[0;34m\u001b[0m\u001b[0m\n\u001b[0;32m---> 13\u001b[0;31m                 \u001b[0mmoveval\u001b[0m\u001b[0;34m=\u001b[0m\u001b[0mminimax\u001b[0m\u001b[0;34m(\u001b[0m\u001b[0mboard\u001b[0m\u001b[0;34m,\u001b[0m\u001b[0;36m0\u001b[0m\u001b[0;34m,\u001b[0m\u001b[0;32mFalse\u001b[0m\u001b[0;34m,\u001b[0m\u001b[0malpha\u001b[0m\u001b[0;34m,\u001b[0m\u001b[0mbeta\u001b[0m\u001b[0;34m)\u001b[0m\u001b[0;34m\u001b[0m\u001b[0;34m\u001b[0m\u001b[0m\n\u001b[0m\u001b[1;32m     14\u001b[0m                 \u001b[0mboard\u001b[0m\u001b[0;34m[\u001b[0m\u001b[0mi\u001b[0m\u001b[0;34m]\u001b[0m\u001b[0;34m[\u001b[0m\u001b[0mj\u001b[0m\u001b[0;34m]\u001b[0m\u001b[0;34m=\u001b[0m\u001b[0;36m0\u001b[0m\u001b[0;34m\u001b[0m\u001b[0;34m\u001b[0m\u001b[0m\n\u001b[1;32m     15\u001b[0m \u001b[0;34m\u001b[0m\u001b[0m\n",
      "\u001b[0;32m<ipython-input-57-f4320911006e>\u001b[0m in \u001b[0;36mminimax\u001b[0;34m(board, depth, isMax, alpha, beta)\u001b[0m\n\u001b[1;32m     31\u001b[0m                 \u001b[0;32mif\u001b[0m \u001b[0mboard\u001b[0m\u001b[0;34m[\u001b[0m\u001b[0mi\u001b[0m\u001b[0;34m]\u001b[0m\u001b[0;34m[\u001b[0m\u001b[0mj\u001b[0m\u001b[0;34m]\u001b[0m\u001b[0;34m==\u001b[0m\u001b[0;36m0\u001b[0m\u001b[0;34m:\u001b[0m\u001b[0;34m\u001b[0m\u001b[0;34m\u001b[0m\u001b[0m\n\u001b[1;32m     32\u001b[0m                     \u001b[0mboard\u001b[0m\u001b[0;34m[\u001b[0m\u001b[0mi\u001b[0m\u001b[0;34m]\u001b[0m\u001b[0;34m[\u001b[0m\u001b[0mj\u001b[0m\u001b[0;34m]\u001b[0m\u001b[0;34m=\u001b[0m\u001b[0mopponent\u001b[0m\u001b[0;34m\u001b[0m\u001b[0;34m\u001b[0m\u001b[0m\n\u001b[0;32m---> 33\u001b[0;31m                     \u001b[0mbest\u001b[0m\u001b[0;34m=\u001b[0m\u001b[0mmin\u001b[0m\u001b[0;34m(\u001b[0m\u001b[0mbest\u001b[0m\u001b[0;34m,\u001b[0m\u001b[0mminimax\u001b[0m\u001b[0;34m(\u001b[0m\u001b[0mboard\u001b[0m\u001b[0;34m,\u001b[0m\u001b[0mdepth\u001b[0m\u001b[0;34m+\u001b[0m\u001b[0;36m1\u001b[0m\u001b[0;34m,\u001b[0m\u001b[0;32mTrue\u001b[0m\u001b[0;34m,\u001b[0m\u001b[0malpha\u001b[0m\u001b[0;34m,\u001b[0m\u001b[0mbeta\u001b[0m\u001b[0;34m)\u001b[0m\u001b[0;34m)\u001b[0m\u001b[0;34m\u001b[0m\u001b[0;34m\u001b[0m\u001b[0m\n\u001b[0m\u001b[1;32m     34\u001b[0m                     \u001b[0mboard\u001b[0m\u001b[0;34m[\u001b[0m\u001b[0mi\u001b[0m\u001b[0;34m]\u001b[0m\u001b[0;34m[\u001b[0m\u001b[0mj\u001b[0m\u001b[0;34m]\u001b[0m\u001b[0;34m=\u001b[0m\u001b[0;36m0\u001b[0m\u001b[0;34m\u001b[0m\u001b[0;34m\u001b[0m\u001b[0m\n\u001b[1;32m     35\u001b[0m \u001b[0;34m\u001b[0m\u001b[0m\n",
      "\u001b[0;32m<ipython-input-57-f4320911006e>\u001b[0m in \u001b[0;36mminimax\u001b[0;34m(board, depth, isMax, alpha, beta)\u001b[0m\n\u001b[1;32m     18\u001b[0m                 \u001b[0;32mif\u001b[0m \u001b[0mboard\u001b[0m\u001b[0;34m[\u001b[0m\u001b[0mi\u001b[0m\u001b[0;34m]\u001b[0m\u001b[0;34m[\u001b[0m\u001b[0mj\u001b[0m\u001b[0;34m]\u001b[0m\u001b[0;34m==\u001b[0m\u001b[0;36m0\u001b[0m\u001b[0;34m:\u001b[0m\u001b[0;34m\u001b[0m\u001b[0;34m\u001b[0m\u001b[0m\n\u001b[1;32m     19\u001b[0m                     \u001b[0mboard\u001b[0m\u001b[0;34m[\u001b[0m\u001b[0mi\u001b[0m\u001b[0;34m]\u001b[0m\u001b[0;34m[\u001b[0m\u001b[0mj\u001b[0m\u001b[0;34m]\u001b[0m\u001b[0;34m=\u001b[0m\u001b[0mplayer\u001b[0m\u001b[0;34m\u001b[0m\u001b[0;34m\u001b[0m\u001b[0m\n\u001b[0;32m---> 20\u001b[0;31m                     \u001b[0mbest\u001b[0m\u001b[0;34m=\u001b[0m\u001b[0mmax\u001b[0m\u001b[0;34m(\u001b[0m\u001b[0mbest\u001b[0m\u001b[0;34m,\u001b[0m\u001b[0mminimax\u001b[0m\u001b[0;34m(\u001b[0m\u001b[0mboard\u001b[0m\u001b[0;34m,\u001b[0m\u001b[0mdepth\u001b[0m\u001b[0;34m+\u001b[0m\u001b[0;36m1\u001b[0m\u001b[0;34m,\u001b[0m\u001b[0;32mFalse\u001b[0m\u001b[0;34m,\u001b[0m\u001b[0malpha\u001b[0m\u001b[0;34m,\u001b[0m\u001b[0mbeta\u001b[0m\u001b[0;34m)\u001b[0m\u001b[0;34m)\u001b[0m\u001b[0;34m\u001b[0m\u001b[0;34m\u001b[0m\u001b[0m\n\u001b[0m\u001b[1;32m     21\u001b[0m                     \u001b[0mboard\u001b[0m\u001b[0;34m[\u001b[0m\u001b[0mi\u001b[0m\u001b[0;34m]\u001b[0m\u001b[0;34m[\u001b[0m\u001b[0mj\u001b[0m\u001b[0;34m]\u001b[0m\u001b[0;34m=\u001b[0m\u001b[0;36m0\u001b[0m\u001b[0;34m\u001b[0m\u001b[0;34m\u001b[0m\u001b[0m\n\u001b[1;32m     22\u001b[0m                     \u001b[0malpha\u001b[0m\u001b[0;34m=\u001b[0m\u001b[0mmax\u001b[0m\u001b[0;34m(\u001b[0m\u001b[0mbest\u001b[0m\u001b[0;34m,\u001b[0m\u001b[0malpha\u001b[0m\u001b[0;34m)\u001b[0m\u001b[0;34m\u001b[0m\u001b[0;34m\u001b[0m\u001b[0m\n",
      "\u001b[0;32m<ipython-input-57-f4320911006e>\u001b[0m in \u001b[0;36mminimax\u001b[0;34m(board, depth, isMax, alpha, beta)\u001b[0m\n\u001b[1;32m     31\u001b[0m                 \u001b[0;32mif\u001b[0m \u001b[0mboard\u001b[0m\u001b[0;34m[\u001b[0m\u001b[0mi\u001b[0m\u001b[0;34m]\u001b[0m\u001b[0;34m[\u001b[0m\u001b[0mj\u001b[0m\u001b[0;34m]\u001b[0m\u001b[0;34m==\u001b[0m\u001b[0;36m0\u001b[0m\u001b[0;34m:\u001b[0m\u001b[0;34m\u001b[0m\u001b[0;34m\u001b[0m\u001b[0m\n\u001b[1;32m     32\u001b[0m                     \u001b[0mboard\u001b[0m\u001b[0;34m[\u001b[0m\u001b[0mi\u001b[0m\u001b[0;34m]\u001b[0m\u001b[0;34m[\u001b[0m\u001b[0mj\u001b[0m\u001b[0;34m]\u001b[0m\u001b[0;34m=\u001b[0m\u001b[0mopponent\u001b[0m\u001b[0;34m\u001b[0m\u001b[0;34m\u001b[0m\u001b[0m\n\u001b[0;32m---> 33\u001b[0;31m                     \u001b[0mbest\u001b[0m\u001b[0;34m=\u001b[0m\u001b[0mmin\u001b[0m\u001b[0;34m(\u001b[0m\u001b[0mbest\u001b[0m\u001b[0;34m,\u001b[0m\u001b[0mminimax\u001b[0m\u001b[0;34m(\u001b[0m\u001b[0mboard\u001b[0m\u001b[0;34m,\u001b[0m\u001b[0mdepth\u001b[0m\u001b[0;34m+\u001b[0m\u001b[0;36m1\u001b[0m\u001b[0;34m,\u001b[0m\u001b[0;32mTrue\u001b[0m\u001b[0;34m,\u001b[0m\u001b[0malpha\u001b[0m\u001b[0;34m,\u001b[0m\u001b[0mbeta\u001b[0m\u001b[0;34m)\u001b[0m\u001b[0;34m)\u001b[0m\u001b[0;34m\u001b[0m\u001b[0;34m\u001b[0m\u001b[0m\n\u001b[0m\u001b[1;32m     34\u001b[0m                     \u001b[0mboard\u001b[0m\u001b[0;34m[\u001b[0m\u001b[0mi\u001b[0m\u001b[0;34m]\u001b[0m\u001b[0;34m[\u001b[0m\u001b[0mj\u001b[0m\u001b[0;34m]\u001b[0m\u001b[0;34m=\u001b[0m\u001b[0;36m0\u001b[0m\u001b[0;34m\u001b[0m\u001b[0;34m\u001b[0m\u001b[0m\n\u001b[1;32m     35\u001b[0m \u001b[0;34m\u001b[0m\u001b[0m\n",
      "\u001b[0;32m<ipython-input-57-f4320911006e>\u001b[0m in \u001b[0;36mminimax\u001b[0;34m(board, depth, isMax, alpha, beta)\u001b[0m\n\u001b[1;32m     18\u001b[0m                 \u001b[0;32mif\u001b[0m \u001b[0mboard\u001b[0m\u001b[0;34m[\u001b[0m\u001b[0mi\u001b[0m\u001b[0;34m]\u001b[0m\u001b[0;34m[\u001b[0m\u001b[0mj\u001b[0m\u001b[0;34m]\u001b[0m\u001b[0;34m==\u001b[0m\u001b[0;36m0\u001b[0m\u001b[0;34m:\u001b[0m\u001b[0;34m\u001b[0m\u001b[0;34m\u001b[0m\u001b[0m\n\u001b[1;32m     19\u001b[0m                     \u001b[0mboard\u001b[0m\u001b[0;34m[\u001b[0m\u001b[0mi\u001b[0m\u001b[0;34m]\u001b[0m\u001b[0;34m[\u001b[0m\u001b[0mj\u001b[0m\u001b[0;34m]\u001b[0m\u001b[0;34m=\u001b[0m\u001b[0mplayer\u001b[0m\u001b[0;34m\u001b[0m\u001b[0;34m\u001b[0m\u001b[0m\n\u001b[0;32m---> 20\u001b[0;31m                     \u001b[0mbest\u001b[0m\u001b[0;34m=\u001b[0m\u001b[0mmax\u001b[0m\u001b[0;34m(\u001b[0m\u001b[0mbest\u001b[0m\u001b[0;34m,\u001b[0m\u001b[0mminimax\u001b[0m\u001b[0;34m(\u001b[0m\u001b[0mboard\u001b[0m\u001b[0;34m,\u001b[0m\u001b[0mdepth\u001b[0m\u001b[0;34m+\u001b[0m\u001b[0;36m1\u001b[0m\u001b[0;34m,\u001b[0m\u001b[0;32mFalse\u001b[0m\u001b[0;34m,\u001b[0m\u001b[0malpha\u001b[0m\u001b[0;34m,\u001b[0m\u001b[0mbeta\u001b[0m\u001b[0;34m)\u001b[0m\u001b[0;34m)\u001b[0m\u001b[0;34m\u001b[0m\u001b[0;34m\u001b[0m\u001b[0m\n\u001b[0m\u001b[1;32m     21\u001b[0m                     \u001b[0mboard\u001b[0m\u001b[0;34m[\u001b[0m\u001b[0mi\u001b[0m\u001b[0;34m]\u001b[0m\u001b[0;34m[\u001b[0m\u001b[0mj\u001b[0m\u001b[0;34m]\u001b[0m\u001b[0;34m=\u001b[0m\u001b[0;36m0\u001b[0m\u001b[0;34m\u001b[0m\u001b[0;34m\u001b[0m\u001b[0m\n\u001b[1;32m     22\u001b[0m                     \u001b[0malpha\u001b[0m\u001b[0;34m=\u001b[0m\u001b[0mmax\u001b[0m\u001b[0;34m(\u001b[0m\u001b[0mbest\u001b[0m\u001b[0;34m,\u001b[0m\u001b[0malpha\u001b[0m\u001b[0;34m)\u001b[0m\u001b[0;34m\u001b[0m\u001b[0;34m\u001b[0m\u001b[0m\n",
      "\u001b[0;32m<ipython-input-57-f4320911006e>\u001b[0m in \u001b[0;36mminimax\u001b[0;34m(board, depth, isMax, alpha, beta)\u001b[0m\n\u001b[1;32m     31\u001b[0m                 \u001b[0;32mif\u001b[0m \u001b[0mboard\u001b[0m\u001b[0;34m[\u001b[0m\u001b[0mi\u001b[0m\u001b[0;34m]\u001b[0m\u001b[0;34m[\u001b[0m\u001b[0mj\u001b[0m\u001b[0;34m]\u001b[0m\u001b[0;34m==\u001b[0m\u001b[0;36m0\u001b[0m\u001b[0;34m:\u001b[0m\u001b[0;34m\u001b[0m\u001b[0;34m\u001b[0m\u001b[0m\n\u001b[1;32m     32\u001b[0m                     \u001b[0mboard\u001b[0m\u001b[0;34m[\u001b[0m\u001b[0mi\u001b[0m\u001b[0;34m]\u001b[0m\u001b[0;34m[\u001b[0m\u001b[0mj\u001b[0m\u001b[0;34m]\u001b[0m\u001b[0;34m=\u001b[0m\u001b[0mopponent\u001b[0m\u001b[0;34m\u001b[0m\u001b[0;34m\u001b[0m\u001b[0m\n\u001b[0;32m---> 33\u001b[0;31m                     \u001b[0mbest\u001b[0m\u001b[0;34m=\u001b[0m\u001b[0mmin\u001b[0m\u001b[0;34m(\u001b[0m\u001b[0mbest\u001b[0m\u001b[0;34m,\u001b[0m\u001b[0mminimax\u001b[0m\u001b[0;34m(\u001b[0m\u001b[0mboard\u001b[0m\u001b[0;34m,\u001b[0m\u001b[0mdepth\u001b[0m\u001b[0;34m+\u001b[0m\u001b[0;36m1\u001b[0m\u001b[0;34m,\u001b[0m\u001b[0;32mTrue\u001b[0m\u001b[0;34m,\u001b[0m\u001b[0malpha\u001b[0m\u001b[0;34m,\u001b[0m\u001b[0mbeta\u001b[0m\u001b[0;34m)\u001b[0m\u001b[0;34m)\u001b[0m\u001b[0;34m\u001b[0m\u001b[0;34m\u001b[0m\u001b[0m\n\u001b[0m\u001b[1;32m     34\u001b[0m                     \u001b[0mboard\u001b[0m\u001b[0;34m[\u001b[0m\u001b[0mi\u001b[0m\u001b[0;34m]\u001b[0m\u001b[0;34m[\u001b[0m\u001b[0mj\u001b[0m\u001b[0;34m]\u001b[0m\u001b[0;34m=\u001b[0m\u001b[0;36m0\u001b[0m\u001b[0;34m\u001b[0m\u001b[0;34m\u001b[0m\u001b[0m\n\u001b[1;32m     35\u001b[0m \u001b[0;34m\u001b[0m\u001b[0m\n",
      "\u001b[0;32m<ipython-input-57-f4320911006e>\u001b[0m in \u001b[0;36mminimax\u001b[0;34m(board, depth, isMax, alpha, beta)\u001b[0m\n\u001b[1;32m     18\u001b[0m                 \u001b[0;32mif\u001b[0m \u001b[0mboard\u001b[0m\u001b[0;34m[\u001b[0m\u001b[0mi\u001b[0m\u001b[0;34m]\u001b[0m\u001b[0;34m[\u001b[0m\u001b[0mj\u001b[0m\u001b[0;34m]\u001b[0m\u001b[0;34m==\u001b[0m\u001b[0;36m0\u001b[0m\u001b[0;34m:\u001b[0m\u001b[0;34m\u001b[0m\u001b[0;34m\u001b[0m\u001b[0m\n\u001b[1;32m     19\u001b[0m                     \u001b[0mboard\u001b[0m\u001b[0;34m[\u001b[0m\u001b[0mi\u001b[0m\u001b[0;34m]\u001b[0m\u001b[0;34m[\u001b[0m\u001b[0mj\u001b[0m\u001b[0;34m]\u001b[0m\u001b[0;34m=\u001b[0m\u001b[0mplayer\u001b[0m\u001b[0;34m\u001b[0m\u001b[0;34m\u001b[0m\u001b[0m\n\u001b[0;32m---> 20\u001b[0;31m                     \u001b[0mbest\u001b[0m\u001b[0;34m=\u001b[0m\u001b[0mmax\u001b[0m\u001b[0;34m(\u001b[0m\u001b[0mbest\u001b[0m\u001b[0;34m,\u001b[0m\u001b[0mminimax\u001b[0m\u001b[0;34m(\u001b[0m\u001b[0mboard\u001b[0m\u001b[0;34m,\u001b[0m\u001b[0mdepth\u001b[0m\u001b[0;34m+\u001b[0m\u001b[0;36m1\u001b[0m\u001b[0;34m,\u001b[0m\u001b[0;32mFalse\u001b[0m\u001b[0;34m,\u001b[0m\u001b[0malpha\u001b[0m\u001b[0;34m,\u001b[0m\u001b[0mbeta\u001b[0m\u001b[0;34m)\u001b[0m\u001b[0;34m)\u001b[0m\u001b[0;34m\u001b[0m\u001b[0;34m\u001b[0m\u001b[0m\n\u001b[0m\u001b[1;32m     21\u001b[0m                     \u001b[0mboard\u001b[0m\u001b[0;34m[\u001b[0m\u001b[0mi\u001b[0m\u001b[0;34m]\u001b[0m\u001b[0;34m[\u001b[0m\u001b[0mj\u001b[0m\u001b[0;34m]\u001b[0m\u001b[0;34m=\u001b[0m\u001b[0;36m0\u001b[0m\u001b[0;34m\u001b[0m\u001b[0;34m\u001b[0m\u001b[0m\n\u001b[1;32m     22\u001b[0m                     \u001b[0malpha\u001b[0m\u001b[0;34m=\u001b[0m\u001b[0mmax\u001b[0m\u001b[0;34m(\u001b[0m\u001b[0mbest\u001b[0m\u001b[0;34m,\u001b[0m\u001b[0malpha\u001b[0m\u001b[0;34m)\u001b[0m\u001b[0;34m\u001b[0m\u001b[0;34m\u001b[0m\u001b[0m\n",
      "\u001b[0;32m<ipython-input-57-f4320911006e>\u001b[0m in \u001b[0;36mminimax\u001b[0;34m(board, depth, isMax, alpha, beta)\u001b[0m\n\u001b[1;32m      1\u001b[0m \u001b[0;32mdef\u001b[0m \u001b[0mminimax\u001b[0m\u001b[0;34m(\u001b[0m\u001b[0mboard\u001b[0m\u001b[0;34m,\u001b[0m\u001b[0mdepth\u001b[0m\u001b[0;34m,\u001b[0m\u001b[0misMax\u001b[0m\u001b[0;34m,\u001b[0m\u001b[0malpha\u001b[0m\u001b[0;34m,\u001b[0m\u001b[0mbeta\u001b[0m\u001b[0;34m)\u001b[0m\u001b[0;34m:\u001b[0m\u001b[0;34m\u001b[0m\u001b[0;34m\u001b[0m\u001b[0m\n\u001b[0;32m----> 2\u001b[0;31m     \u001b[0mscore\u001b[0m\u001b[0;34m=\u001b[0m\u001b[0mevaluate\u001b[0m\u001b[0;34m(\u001b[0m\u001b[0mboard\u001b[0m\u001b[0;34m)\u001b[0m\u001b[0;34m\u001b[0m\u001b[0;34m\u001b[0m\u001b[0m\n\u001b[0m\u001b[1;32m      3\u001b[0m     \u001b[0;32mif\u001b[0m \u001b[0mdepth\u001b[0m\u001b[0;34m==\u001b[0m\u001b[0;36m6\u001b[0m\u001b[0;34m:\u001b[0m\u001b[0;34m\u001b[0m\u001b[0;34m\u001b[0m\u001b[0m\n\u001b[1;32m      4\u001b[0m         \u001b[0;32mreturn\u001b[0m \u001b[0mscore\u001b[0m\u001b[0;34m\u001b[0m\u001b[0;34m\u001b[0m\u001b[0m\n\u001b[1;32m      5\u001b[0m     \u001b[0;32mif\u001b[0m \u001b[0mscore\u001b[0m\u001b[0;34m==\u001b[0m\u001b[0;36m10\u001b[0m\u001b[0;34m:\u001b[0m\u001b[0;34m\u001b[0m\u001b[0;34m\u001b[0m\u001b[0m\n",
      "\u001b[0;32m<ipython-input-56-9c476c4cedac>\u001b[0m in \u001b[0;36mevaluate\u001b[0;34m(b)\u001b[0m\n\u001b[1;32m     20\u001b[0m             \u001b[0;32mreturn\u001b[0m \u001b[0;34m-\u001b[0m\u001b[0;36m10\u001b[0m\u001b[0;34m\u001b[0m\u001b[0;34m\u001b[0m\u001b[0m\n\u001b[1;32m     21\u001b[0m \u001b[0;34m\u001b[0m\u001b[0m\n\u001b[0;32m---> 22\u001b[0;31m     \u001b[0;32mif\u001b[0m \u001b[0mb\u001b[0m\u001b[0;34m[\u001b[0m\u001b[0;36m0\u001b[0m\u001b[0;34m]\u001b[0m\u001b[0;34m[\u001b[0m\u001b[0;36m4\u001b[0m\u001b[0;34m]\u001b[0m\u001b[0;34m==\u001b[0m\u001b[0mb\u001b[0m\u001b[0;34m[\u001b[0m\u001b[0;36m1\u001b[0m\u001b[0;34m]\u001b[0m\u001b[0;34m[\u001b[0m\u001b[0;36m3\u001b[0m\u001b[0;34m]\u001b[0m \u001b[0;32mand\u001b[0m \u001b[0mb\u001b[0m\u001b[0;34m[\u001b[0m\u001b[0;36m1\u001b[0m\u001b[0;34m]\u001b[0m\u001b[0;34m[\u001b[0m\u001b[0;36m3\u001b[0m\u001b[0;34m]\u001b[0m\u001b[0;34m==\u001b[0m\u001b[0mb\u001b[0m\u001b[0;34m[\u001b[0m\u001b[0;36m2\u001b[0m\u001b[0;34m]\u001b[0m\u001b[0;34m[\u001b[0m\u001b[0;36m2\u001b[0m\u001b[0;34m]\u001b[0m \u001b[0;32mand\u001b[0m \u001b[0mb\u001b[0m\u001b[0;34m[\u001b[0m\u001b[0;36m2\u001b[0m\u001b[0;34m]\u001b[0m\u001b[0;34m[\u001b[0m\u001b[0;36m2\u001b[0m\u001b[0;34m]\u001b[0m\u001b[0;34m==\u001b[0m\u001b[0mb\u001b[0m\u001b[0;34m[\u001b[0m\u001b[0;36m3\u001b[0m\u001b[0;34m]\u001b[0m\u001b[0;34m[\u001b[0m\u001b[0;36m1\u001b[0m\u001b[0;34m]\u001b[0m \u001b[0;32mand\u001b[0m \u001b[0mb\u001b[0m\u001b[0;34m[\u001b[0m\u001b[0;36m3\u001b[0m\u001b[0;34m]\u001b[0m\u001b[0;34m[\u001b[0m\u001b[0;36m1\u001b[0m\u001b[0;34m]\u001b[0m\u001b[0;34m==\u001b[0m\u001b[0mb\u001b[0m\u001b[0;34m[\u001b[0m\u001b[0;36m4\u001b[0m\u001b[0;34m]\u001b[0m\u001b[0;34m[\u001b[0m\u001b[0;36m0\u001b[0m\u001b[0;34m]\u001b[0m\u001b[0;34m:\u001b[0m\u001b[0;34m\u001b[0m\u001b[0;34m\u001b[0m\u001b[0m\n\u001b[0m\u001b[1;32m     23\u001b[0m         \u001b[0;32mif\u001b[0m \u001b[0mb\u001b[0m\u001b[0;34m[\u001b[0m\u001b[0;36m0\u001b[0m\u001b[0;34m]\u001b[0m\u001b[0;34m[\u001b[0m\u001b[0;36m4\u001b[0m\u001b[0;34m]\u001b[0m\u001b[0;34m==\u001b[0m\u001b[0mplayer\u001b[0m\u001b[0;34m:\u001b[0m\u001b[0;34m\u001b[0m\u001b[0;34m\u001b[0m\u001b[0m\n\u001b[1;32m     24\u001b[0m             \u001b[0;32mreturn\u001b[0m \u001b[0;36m10\u001b[0m\u001b[0;34m\u001b[0m\u001b[0;34m\u001b[0m\u001b[0m\n",
      "\u001b[0;31mKeyboardInterrupt\u001b[0m: "
     ]
    }
   ],
   "source": [
    "\n",
    "agent=Agent(0.0001,25,0.99,25,25,25)\n",
    "end=0\n",
    "score_history=[]\n",
    "score=0\n",
    "num_ep=2500\n",
    "\n",
    "for i in range(num_ep):\n",
    "    done=False\n",
    "    score=0\n",
    "    board=np.zeros((5,5))\n",
    "    while not done:\n",
    "        i_index,j_index=agent.act(board)\n",
    "        board,reward,done=step(board,i_index,j_index)\n",
    "        agent.store_rewards(reward)\n",
    "        score+=reward\n",
    "    score_history.append(score)\n",
    "    print('episode',i,'score %.3f' % score)\n",
    "    agent.learn()"
   ]
  },
  {
   "cell_type": "code",
   "execution_count": 90,
   "metadata": {},
   "outputs": [
    {
     "data": {
      "image/png": "[encoded data removed]",
      "text/plain": [
       "<Figure size 432x288 with 1 Axes>"
      ]
     },
     "metadata": {
      "needs_background": "light"
     },
     "output_type": "display_data"
    },
    {
     "data": {
      "text/plain": [
       "<Figure size 7200x7200 with 0 Axes>"
      ]
     },
     "metadata": {},
     "output_type": "display_data"
    }
   ],
   "source": [
    "import matplotlib.pyplot as plt\n",
    "plt.plot(score_history)\n",
    "plt.show()"
   ]
  },
  {
   "cell_type": "code",
   "execution_count": 91,
   "metadata": {},
   "outputs": [
    {
     "name": "stdout",
     "output_type": "stream",
     "text": [
      "-84.5\n"
     ]
    }
   ],
   "source": [
    "print(sum(score_history))"
   ]
  },
  {
   "cell_type": "code",
   "execution_count": 6,
   "metadata": {},
   "outputs": [],
   "source": [
    "#PATH=\"Model_Weights/lunar_agent1.pt\"\n",
    "# T.save(agent.policy.state_dict(), PATH)"
   ]
  },
  {
   "cell_type": "code",
   "execution_count": 7,
   "metadata": {},
   "outputs": [
    {
     "data": {
      "text/plain": [
       "PolicyNetwork(\n",
       "  (fc1): Linear(in_features=8, out_features=256, bias=True)\n",
       "  (fc2): Linear(in_features=256, out_features=256, bias=True)\n",
       "  (fc3): Linear(in_features=256, out_features=4, bias=True)\n",
       ")"
      ]
     },
     "execution_count": 7,
     "metadata": {},
     "output_type": "execute_result"
    }
   ],
   "source": [
    "new_agent = Agent(0.0005,8,0.99,4,256,256)\n",
    "new_agent.policy.load_state_dict(T.load(PATH))\n",
    "new_agent.policy.eval()"
   ]
  },
  {
   "cell_type": "code",
   "execution_count": 12,
   "metadata": {},
   "outputs": [
    {
     "name": "stderr",
     "output_type": "stream",
     "text": [
      "/home/neloy/anaconda3/envs/myenv/lib/python3.6/site-packages/ipykernel_launcher.py:10: UserWarning: Implicit dimension choice for softmax has been deprecated. Change the call to include dim=X as an argument.\n",
      "  # Remove the CWD from sys.path while we load stuff.\n"
     ]
    },
    {
     "name": "stdout",
     "output_type": "stream",
     "text": [
      "70.01457608752972\n"
     ]
    }
   ],
   "source": [
    "\n",
    "done=False\n",
    "score=0\n",
    "observation=env.reset()\n",
    "while not done:\n",
    "    action=new_agent.act(observation)\n",
    "    observation,reward,done,_ =env.step(action)\n",
    "    env.render()\n",
    "    score+=reward\n",
    "# score_history.append(score)\n",
    "print(score)"
   ]
  },
  {
   "cell_type": "code",
   "execution_count": 8,
   "metadata": {},
   "outputs": [
    {
     "data": {
      "text/plain": [
       "(0, 0)"
      ]
     },
     "execution_count": 8,
     "metadata": {},
     "output_type": "execute_result"
    }
   ],
   "source": [
    "num=0\n",
    "convert(num)"
   ]
  },
  {
   "cell_type": "code",
   "execution_count": 41,
   "metadata": {},
   "outputs": [
    {
     "data": {
      "text/plain": [
       "0"
      ]
     },
     "execution_count": 41,
     "metadata": {},
     "output_type": "execute_result"
    }
   ],
   "source": [
    "num"
   ]
  },
  {
   "cell_type": "code",
   "execution_count": 9,
   "metadata": {},
   "outputs": [
    {
     "data": {
      "text/plain": [
       "tensor(4)"
      ]
     },
     "execution_count": 9,
     "metadata": {},
     "output_type": "execute_result"
    }
   ],
   "source": [
    "T.tensor(4)"
   ]
  },
  {
   "cell_type": "code",
   "execution_count": null,
   "metadata": {},
   "outputs": [],
   "source": []
  }
 ],
 "metadata": {
  "kernelspec": {
   "display_name": "Python 3",
   "language": "python",
   "name": "python3"
  },
  "language_info": {
   "codemirror_mode": {
    "name": "ipython",
    "version": 3
   },
   "file_extension": ".py",
   "mimetype": "text/x-python",
   "name": "python",
   "nbconvert_exporter": "python",
   "pygments_lexer": "ipython3",
   "version": "3.6.12"
  }
 },
 "nbformat": 4,
 "nbformat_minor": 4
}
